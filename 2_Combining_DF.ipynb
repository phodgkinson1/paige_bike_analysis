{
  "nbformat": 4,
  "nbformat_minor": 0,
  "metadata": {
    "colab": {
      "provenance": []
    },
    "kernelspec": {
      "name": "python3",
      "display_name": "Python 3"
    },
    "language_info": {
      "name": "python"
    }
  },
  "cells": [
    {
      "cell_type": "code",
      "source": [
        "!pip install numpy==1.25.2\n",
        "!pip uninstall scipy\n",
        "!pip install scipy"
      ],
      "metadata": {
        "id": "9IYXf404h8Vn"
      },
      "execution_count": null,
      "outputs": []
    },
    {
      "cell_type": "code",
      "execution_count": null,
      "metadata": {
        "id": "QOlRboKmfQj2"
      },
      "outputs": [],
      "source": [
        "#imports\n",
        "\n",
        "from google.colab import files\n",
        "import pandas as pd\n",
        "import numpy as np"
      ]
    },
    {
      "cell_type": "code",
      "source": [
        "ACS_cleaned = pd.read_csv('/content/ACS_cleaned.csv')\n",
        "Bikeways_cleaned = pd.read_csv('/content/Bikeways_cleaned.csv', dtype={'CENSUS_TRACT': str})\n",
        "Crashes_cleaned = pd.read_csv('/content/Crashes_cleaned.csv', dtype={'CENSUS_TRACT': str})\n",
        "Income_cleaned = pd.read_csv('/content/Income_cleaned.csv')"
      ],
      "metadata": {
        "id": "bMMovSBgh_m2"
      },
      "execution_count": null,
      "outputs": []
    },
    {
      "cell_type": "code",
      "source": [
        "print(Bikeways_cleaned)\n"
      ],
      "metadata": {
        "colab": {
          "base_uri": "https://localhost:8080/"
        },
        "id": "zmDOO8kEn_4d",
        "outputId": "54638a06-ec78-4d5e-8609-0ca5570e0446",
        "collapsed": true
      },
      "execution_count": null,
      "outputs": [
        {
          "output_type": "stream",
          "name": "stdout",
          "text": [
            "     OBJECTID         CNN CORNER          STREET1         STREET2  \\\n",
            "0        2246  23875000.0      E           7TH ST       BRYANT ST   \n",
            "1        4188  24570000.0     SE  THE EMBARCADERO        BROADWAY   \n",
            "2          29  25474000.0    NaN  THE EMBARCADERO  NORTH POINT ST   \n",
            "3        5475  34141000.0     NE       MACALLA RD  YERBA BUENA RD   \n",
            "4        5133  20725000.0     NW        EVANS AVE     NAPOLEON ST   \n",
            "..        ...         ...    ...              ...             ...   \n",
            "487      6437  24017000.0     SE          17TH ST     POTRERO AVE   \n",
            "488       199  25880000.0    NaN        MARKET ST         15TH ST   \n",
            "489      4187  24570000.0    NaN  THE EMBARCADERO        BROADWAY   \n",
            "490       133  24403000.0    NaN       DUBOCE AVE     VALENCIA ST   \n",
            "491      6727  24262000.0    NaN           7TH ST       FOLSOM ST   \n",
            "\n",
            "                 DESCRIPT  COUNT  INSTALL_MO  INSTALL_YR  UPDATE_MO  \\\n",
            "0             BIKE SIGNAL    2.0         4.0      2020.0        NaN   \n",
            "1          TWO-STAGE LEFT    1.0         3.0      2022.0        NaN   \n",
            "2    INTERSECTION SHARROW    2.0         6.0      2017.0        NaN   \n",
            "3                BIKE BOX    1.0         1.0      2023.0        NaN   \n",
            "4             MIXING ZONE    1.0        10.0      2022.0        NaN   \n",
            "..                    ...    ...         ...         ...        ...   \n",
            "487        TWO-STAGE LEFT    1.0         6.0      2024.0        NaN   \n",
            "488              BIKE BOX    1.0        11.0      2016.0        NaN   \n",
            "489             CROSSBIKE    1.0         3.0      2022.0        NaN   \n",
            "490           BIKE SIGNAL    4.0         8.0      2019.0        NaN   \n",
            "491           BIKE SIGNAL    2.0        10.0      2024.0        NaN   \n",
            "\n",
            "     UPDATE_YR                                shape  SF Find Neighborhoods 2  \\\n",
            "0          NaN  POINT (-122.404748493 37.774281041)                     32.0   \n",
            "1          NaN  POINT (-122.397669949 37.799234483)                     77.0   \n",
            "2          NaN  POINT (-122.407301071 37.807380069)                     99.0   \n",
            "3          NaN  POINT (-122.366739204 37.811148501)                     35.0   \n",
            "4          NaN  POINT (-122.396008613 37.747262348)                     85.0   \n",
            "..         ...                                  ...                      ...   \n",
            "487        NaN  POINT (-122.406429154 37.764547654)                     54.0   \n",
            "488        NaN  POINT (-122.430824394 37.766013731)                     28.0   \n",
            "489        NaN  POINT (-122.397669949 37.799234483)                     77.0   \n",
            "490        NaN  POINT (-122.422364819 37.769867698)                      NaN   \n",
            "491        NaN   POINT (-122.40784206 37.776746109)                     32.0   \n",
            "\n",
            "     Current Police Districts 2  Current Supervisor Districts 2  \\\n",
            "0                             1                              10   \n",
            "1                             6                               3   \n",
            "2                             6                               3   \n",
            "3                             1                              10   \n",
            "4                             2                               9   \n",
            "..                          ...                             ...   \n",
            "487                           3                               9   \n",
            "488                           3                               5   \n",
            "489                           6                               3   \n",
            "490                           3                               2   \n",
            "491                           1                              10   \n",
            "\n",
            "     Analysis Neighborhoods 2  Neighborhoods   LONGITUDE   LATITUDE  \\\n",
            "0                          34           32.0 -122.404748  37.774281   \n",
            "1                           8           77.0 -122.397670  37.799234   \n",
            "2                          23           99.0 -122.407301  37.807380   \n",
            "3                          37           35.0 -122.366739  37.811149   \n",
            "4                           1           85.0 -122.396009  37.747262   \n",
            "..                        ...            ...         ...        ...   \n",
            "487                        20           54.0 -122.406429  37.764548   \n",
            "488                         5           28.0 -122.430824  37.766014   \n",
            "489                         8           77.0 -122.397670  37.799234   \n",
            "490                        20            NaN -122.422365  37.769868   \n",
            "491                        34           32.0 -122.407842  37.776746   \n",
            "\n",
            "    CENSUS_TRACT  \n",
            "0    06075018000  \n",
            "1    06075010500  \n",
            "2    06075010101  \n",
            "3    06075017903  \n",
            "4    06075980900  \n",
            "..           ...  \n",
            "487  06075022802  \n",
            "488  06075020300  \n",
            "489  06075010500  \n",
            "490  06075020101  \n",
            "491  06075017804  \n",
            "\n",
            "[492 rows x 20 columns]\n"
          ]
        }
      ]
    },
    {
      "cell_type": "code",
      "source": [
        "# 1. Get unique CENSUS_TRACT values from Bikeways and Crashes\n",
        "all_census_tracts = pd.unique(pd.concat([Bikeways_cleaned['CENSUS_TRACT'], Crashes_cleaned['CENSUS_TRACT']]))\n",
        "\n",
        "# 2. Get CENSUS_TRACT values from ACS_cleaned column labels (row 0)\n",
        "acs_census_tracts = ACS_cleaned.columns[1:].tolist()  # Get column labels starting from index 1\n",
        "\n",
        "# 3. Combine all unique CENSUS_TRACT values\n",
        "all_census_tracts = pd.unique(all_census_tracts.tolist() + acs_census_tracts)\n",
        "\n",
        "# 4. Create new DataFrame with single column\n",
        "combined_df = pd.DataFrame({'CENSUS_TRACT': all_census_tracts})\n",
        "\n",
        "# Display the new DataFrame\n",
        "print(combined_df)\n",
        "\n",
        "\n",
        "# Get column names from ACS_cleaned, ensuring they are strings\n",
        "new_columns = ACS_cleaned.iloc[:3, 0].astype(str).values.tolist()\n",
        "\n",
        "# Add new columns to combined_df with NaN values, ensuring column names are strings\n",
        "for column_name in new_columns:\n",
        "    combined_df[column_name] = np.nan  # Initialize with NaN\n",
        "\n",
        "# Combine 'CROSSBIKE' and 'CROSS BIKE' columns\n",
        "if 'CROSSBIKE' in combined_df.columns and 'CROSS BIKE' in combined_df.columns:\n",
        "    combined_df['CROSSBIKE'] = combined_df['CROSSBIKE'].fillna(0) + combined_df['CROSS BIKE'].fillna(0)\n",
        "    combined_df.drop('CROSS BIKE', axis=1, inplace=True)\n",
        "\n",
        "# Display the updated combined_df\n",
        "print(combined_df)\n"
      ],
      "metadata": {
        "colab": {
          "base_uri": "https://localhost:8080/"
        },
        "collapsed": true,
        "id": "Z62kCLuUm0XM",
        "outputId": "6390ae92-d11e-4fe0-fb65-eeaa82eae0f6"
      },
      "execution_count": null,
      "outputs": [
        {
          "output_type": "stream",
          "name": "stdout",
          "text": [
            "    CENSUS_TRACT\n",
            "0    06075018000\n",
            "1    06075010500\n",
            "2    06075010101\n",
            "3    06075017903\n",
            "4    06075980900\n",
            "..           ...\n",
            "293  06075980401\n",
            "294  06075009806\n",
            "295  06075009809\n",
            "296  06075009901\n",
            "297  06075009902\n",
            "\n",
            "[298 rows x 1 columns]\n",
            "    CENSUS_TRACT  Total:      Bicycle  % Bike Commuter\n",
            "0    06075018000     NaN          NaN              NaN\n",
            "1    06075010500     NaN          NaN              NaN\n",
            "2    06075010101     NaN          NaN              NaN\n",
            "3    06075017903     NaN          NaN              NaN\n",
            "4    06075980900     NaN          NaN              NaN\n",
            "..           ...     ...          ...              ...\n",
            "293  06075980401     NaN          NaN              NaN\n",
            "294  06075009806     NaN          NaN              NaN\n",
            "295  06075009809     NaN          NaN              NaN\n",
            "296  06075009901     NaN          NaN              NaN\n",
            "297  06075009902     NaN          NaN              NaN\n",
            "\n",
            "[298 rows x 4 columns]\n"
          ]
        },
        {
          "output_type": "stream",
          "name": "stderr",
          "text": [
            "<ipython-input-36-111725e3b056>:8: FutureWarning: unique with argument that is not not a Series, Index, ExtensionArray, or np.ndarray is deprecated and will raise in a future version.\n",
            "  all_census_tracts = pd.unique(all_census_tracts.tolist() + acs_census_tracts)\n"
          ]
        }
      ]
    },
    {
      "cell_type": "code",
      "source": [
        "# Transpose ACS_cleaned and reset index\n",
        "acs_transposed = ACS_cleaned.set_index('Label (Grouping)').T.reset_index()\n",
        "acs_transposed.rename(columns={'index': 'CENSUS_TRACT'}, inplace=True)\n",
        "\n",
        "# Update combined_df using a loop and loc\n",
        "for index in combined_df.index:\n",
        "    census_tract = combined_df.loc[index, 'CENSUS_TRACT']\n",
        "\n",
        "    # Find matching row in acs_transposed\n",
        "    matching_row = acs_transposed[acs_transposed['CENSUS_TRACT'] == census_tract]\n",
        "\n",
        "    # If a match is found, update values in combined_df\n",
        "    if not matching_row.empty:\n",
        "        for column in ACS_cleaned['Label (Grouping)'].tolist():\n",
        "            if column in combined_df.columns:\n",
        "                combined_df.loc[index, column] = matching_row[column].values[0]\n",
        "\n",
        "# Display updated combined_df\n",
        "print(combined_df)"
      ],
      "metadata": {
        "collapsed": true,
        "colab": {
          "base_uri": "https://localhost:8080/"
        },
        "id": "McVyNm6gm61Y",
        "outputId": "95d4e868-8aea-4304-cc46-6a2735e6d434"
      },
      "execution_count": null,
      "outputs": [
        {
          "output_type": "stream",
          "name": "stdout",
          "text": [
            "    CENSUS_TRACT  Total:      Bicycle  % Bike Commuter\n",
            "0    06075018000     NaN          NaN              NaN\n",
            "1    06075010500     NaN          NaN              NaN\n",
            "2    06075010101  1159.0         44.0         3.796376\n",
            "3    06075017903  1397.0         21.0         1.503221\n",
            "4    06075980900     NaN          NaN              NaN\n",
            "..           ...     ...          ...              ...\n",
            "293  06075980401     0.0          0.0         0.000000\n",
            "294  06075009806   741.0         13.0         1.754386\n",
            "295  06075009809   178.0         12.0         6.741573\n",
            "296  06075009901     0.0          0.0         0.000000\n",
            "297  06075009902     0.0          0.0         0.000000\n",
            "\n",
            "[298 rows x 4 columns]\n"
          ]
        }
      ]
    },
    {
      "cell_type": "code",
      "source": [
        "# Delete rows with NaN in 'Total:' column\n",
        "combined_df = combined_df.dropna(subset=['Total:'])\n",
        "\n",
        "# Display the updated DataFrame\n",
        "print(combined_df)"
      ],
      "metadata": {
        "colab": {
          "base_uri": "https://localhost:8080/"
        },
        "collapsed": true,
        "id": "iZQ3_eBVm-VJ",
        "outputId": "06239b3c-f73d-4f3e-d537-bc2283b54b62"
      },
      "execution_count": null,
      "outputs": [
        {
          "output_type": "stream",
          "name": "stdout",
          "text": [
            "    CENSUS_TRACT  Total:      Bicycle  % Bike Commuter\n",
            "2    06075010101  1159.0         44.0         3.796376\n",
            "3    06075017903  1397.0         21.0         1.503221\n",
            "6    06075016802  2726.0         40.0         1.467351\n",
            "8    06075020202  2778.0        365.0        13.138949\n",
            "9    06075016101   970.0          5.0         0.515464\n",
            "..           ...     ...          ...              ...\n",
            "293  06075980401     0.0          0.0         0.000000\n",
            "294  06075009806   741.0         13.0         1.754386\n",
            "295  06075009809   178.0         12.0         6.741573\n",
            "296  06075009901     0.0          0.0         0.000000\n",
            "297  06075009902     0.0          0.0         0.000000\n",
            "\n",
            "[244 rows x 4 columns]\n"
          ]
        }
      ]
    },
    {
      "cell_type": "code",
      "source": [
        "combined_df['Num_Crashes'] = 0\n",
        "print(combined_df)"
      ],
      "metadata": {
        "colab": {
          "base_uri": "https://localhost:8080/"
        },
        "id": "pvsdOOdEnF9l",
        "outputId": "6968e4b3-8e0a-4224-a1d4-555c082ef9a5",
        "collapsed": true
      },
      "execution_count": null,
      "outputs": [
        {
          "output_type": "stream",
          "name": "stdout",
          "text": [
            "    CENSUS_TRACT  Total:      Bicycle  % Bike Commuter  Num_Crashes\n",
            "2    06075010101  1159.0         44.0         3.796376            0\n",
            "3    06075017903  1397.0         21.0         1.503221            0\n",
            "6    06075016802  2726.0         40.0         1.467351            0\n",
            "8    06075020202  2778.0        365.0        13.138949            0\n",
            "9    06075016101   970.0          5.0         0.515464            0\n",
            "..           ...     ...          ...              ...          ...\n",
            "293  06075980401     0.0          0.0         0.000000            0\n",
            "294  06075009806   741.0         13.0         1.754386            0\n",
            "295  06075009809   178.0         12.0         6.741573            0\n",
            "296  06075009901     0.0          0.0         0.000000            0\n",
            "297  06075009902     0.0          0.0         0.000000            0\n",
            "\n",
            "[244 rows x 5 columns]\n"
          ]
        },
        {
          "output_type": "stream",
          "name": "stderr",
          "text": [
            "<ipython-input-39-d9d4ecead7d5>:1: SettingWithCopyWarning: \n",
            "A value is trying to be set on a copy of a slice from a DataFrame.\n",
            "Try using .loc[row_indexer,col_indexer] = value instead\n",
            "\n",
            "See the caveats in the documentation: https://pandas.pydata.org/pandas-docs/stable/user_guide/indexing.html#returning-a-view-versus-a-copy\n",
            "  combined_df['Num_Crashes'] = 0\n"
          ]
        }
      ]
    },
    {
      "cell_type": "code",
      "source": [
        "for index, row in Crashes_cleaned.iterrows():\n",
        "    census_tract = row['CENSUS_TRACT']\n",
        "\n",
        "    # Find matching rows in combined_df\n",
        "    matching_rows = combined_df[combined_df['CENSUS_TRACT'] == census_tract]\n",
        "\n",
        "    # If a match is found, increment Num_Crashes\n",
        "    if not matching_rows.empty:\n",
        "        combined_df.loc[matching_rows.index, 'Num_Crashes'] += 1"
      ],
      "metadata": {
        "id": "f_54LXG7nI3K"
      },
      "execution_count": null,
      "outputs": []
    },
    {
      "cell_type": "code",
      "source": [
        "combined_df['COUNT'] = 0\n"
      ],
      "metadata": {
        "id": "Qsw08v7cnKox"
      },
      "execution_count": null,
      "outputs": []
    },
    {
      "cell_type": "code",
      "source": [
        "Bikeways_cleaned = Bikeways_cleaned[['DESCRIPT', 'COUNT', 'CENSUS_TRACT']]\n",
        "print(Bikeways_cleaned)"
      ],
      "metadata": {
        "colab": {
          "base_uri": "https://localhost:8080/"
        },
        "id": "f2va7RPmqL6e",
        "outputId": "55460383-756b-48bc-f3fd-8ceab8027b69",
        "collapsed": true
      },
      "execution_count": null,
      "outputs": [
        {
          "output_type": "stream",
          "name": "stdout",
          "text": [
            "                 DESCRIPT  COUNT CENSUS_TRACT\n",
            "0             BIKE SIGNAL    2.0  06075018000\n",
            "1          TWO-STAGE LEFT    1.0  06075010500\n",
            "2    INTERSECTION SHARROW    2.0  06075010101\n",
            "3                BIKE BOX    1.0  06075017903\n",
            "4             MIXING ZONE    1.0  06075980900\n",
            "..                    ...    ...          ...\n",
            "487        TWO-STAGE LEFT    1.0  06075022802\n",
            "488              BIKE BOX    1.0  06075020300\n",
            "489             CROSSBIKE    1.0  06075010500\n",
            "490           BIKE SIGNAL    4.0  06075020101\n",
            "491           BIKE SIGNAL    2.0  06075017804\n",
            "\n",
            "[492 rows x 3 columns]\n"
          ]
        }
      ]
    },
    {
      "cell_type": "code",
      "source": [
        "for item in Bikeways_cleaned['DESCRIPT'].unique():\n",
        "    print(item)"
      ],
      "metadata": {
        "colab": {
          "base_uri": "https://localhost:8080/"
        },
        "id": "dI9Bcn951hgp",
        "outputId": "5f29d3c1-a3b6-471b-a386-d07dbb777ed2",
        "collapsed": true
      },
      "execution_count": null,
      "outputs": [
        {
          "output_type": "stream",
          "name": "stdout",
          "text": [
            "BIKE SIGNAL\n",
            "TWO-STAGE LEFT\n",
            "INTERSECTION SHARROW\n",
            "BIKE BOX\n",
            "MIXING ZONE\n",
            "PAINTED SAFETY ZONE\n",
            "CROSSBIKE\n",
            "PROTECTED CORNER\n",
            "nan\n",
            "CROSS BIKE\n",
            "PROTECTED INTERSECTION\n",
            "BIKE CHANNEL\n",
            "JUGHANDLE\n"
          ]
        }
      ]
    },
    {
      "cell_type": "code",
      "source": [
        "#num_nan_rows = Bikeways_cleaned['DESCRIPT'].isna().sum()\n",
        "#print(f\"Number of rows with 'nan' in 'DESCRIPT': {num_nan_rows}\")\n",
        "#result- only one nan row\n",
        "\n",
        "Bikeways_cleaned = Bikeways_cleaned.dropna(subset=['DESCRIPT'])\n"
      ],
      "metadata": {
        "id": "jgHVoPh31rHA"
      },
      "execution_count": null,
      "outputs": []
    },
    {
      "cell_type": "code",
      "source": [
        "for item in Bikeways_cleaned['DESCRIPT'].unique():\n",
        "    print(item)"
      ],
      "metadata": {
        "colab": {
          "base_uri": "https://localhost:8080/"
        },
        "collapsed": true,
        "id": "Bnmp1S0r3F9A",
        "outputId": "1fe27d7e-8b6f-454c-8e35-1554119065dc"
      },
      "execution_count": null,
      "outputs": [
        {
          "output_type": "stream",
          "name": "stdout",
          "text": [
            "BIKE SIGNAL\n",
            "TWO-STAGE LEFT\n",
            "INTERSECTION SHARROW\n",
            "BIKE BOX\n",
            "MIXING ZONE\n",
            "PAINTED SAFETY ZONE\n",
            "CROSSBIKE\n",
            "PROTECTED CORNER\n",
            "CROSS BIKE\n",
            "PROTECTED INTERSECTION\n",
            "BIKE CHANNEL\n",
            "JUGHANDLE\n"
          ]
        }
      ]
    },
    {
      "cell_type": "code",
      "source": [
        "# Get unique items from 'DESCRIPT'\n",
        "unique_items = Bikeways_cleaned['DESCRIPT'].unique()\n",
        "\n",
        "# Create a new DataFrame\n",
        "item_df = pd.DataFrame({'DESCRIPT': unique_items})\n",
        "\n",
        "# Display the new DataFrame\n",
        "print(item_df)"
      ],
      "metadata": {
        "colab": {
          "base_uri": "https://localhost:8080/"
        },
        "id": "DvFbUerI3wOt",
        "outputId": "fd896d14-0953-4e6b-bd18-70f3f126e9e1",
        "collapsed": true
      },
      "execution_count": null,
      "outputs": [
        {
          "output_type": "stream",
          "name": "stdout",
          "text": [
            "                  DESCRIPT\n",
            "0              BIKE SIGNAL\n",
            "1           TWO-STAGE LEFT\n",
            "2     INTERSECTION SHARROW\n",
            "3                 BIKE BOX\n",
            "4              MIXING ZONE\n",
            "5      PAINTED SAFETY ZONE\n",
            "6                CROSSBIKE\n",
            "7         PROTECTED CORNER\n",
            "8               CROSS BIKE\n",
            "9   PROTECTED INTERSECTION\n",
            "10            BIKE CHANNEL\n",
            "11               JUGHANDLE\n"
          ]
        }
      ]
    },
    {
      "cell_type": "code",
      "source": [
        "# Create a dictionary mapping DESCRIPT values to row numbers\n",
        "descript_mapping = {descript: i for i, descript in enumerate(item_df['DESCRIPT'])}\n",
        "\n",
        "# Replace values in Bikeways_cleaned['DESCRIPT']\n",
        "Bikeways_cleaned['DESCRIPT'] = Bikeways_cleaned['DESCRIPT'].map(descript_mapping)\n",
        "\n",
        "# Display the updated Bikeways_cleaned DataFrame\n",
        "print(Bikeways_cleaned)"
      ],
      "metadata": {
        "colab": {
          "base_uri": "https://localhost:8080/"
        },
        "id": "xXcEGbWf5X97",
        "outputId": "355372d3-77fd-4914-8637-ee20cb2423e9",
        "collapsed": true
      },
      "execution_count": null,
      "outputs": [
        {
          "output_type": "stream",
          "name": "stdout",
          "text": [
            "     DESCRIPT  COUNT CENSUS_TRACT\n",
            "0           0    2.0  06075018000\n",
            "1           1    1.0  06075010500\n",
            "2           2    2.0  06075010101\n",
            "3           3    1.0  06075017903\n",
            "4           4    1.0  06075980900\n",
            "..        ...    ...          ...\n",
            "487         1    1.0  06075022802\n",
            "488         3    1.0  06075020300\n",
            "489         6    1.0  06075010500\n",
            "490         0    4.0  06075020101\n",
            "491         0    2.0  06075017804\n",
            "\n",
            "[491 rows x 3 columns]\n"
          ]
        }
      ]
    },
    {
      "cell_type": "code",
      "source": [
        "descript_counts = Bikeways_cleaned['DESCRIPT'].value_counts()\n",
        "print(descript_counts)"
      ],
      "metadata": {
        "colab": {
          "base_uri": "https://localhost:8080/"
        },
        "id": "zrn7qDQsKGLZ",
        "outputId": "ac0a9e35-6522-4030-e1de-e2d732cb16d4",
        "collapsed": true
      },
      "execution_count": null,
      "outputs": [
        {
          "output_type": "stream",
          "name": "stdout",
          "text": [
            "DESCRIPT\n",
            "2     166\n",
            "0      74\n",
            "1      71\n",
            "7      46\n",
            "4      45\n",
            "6      41\n",
            "3      40\n",
            "5       3\n",
            "11      2\n",
            "8       1\n",
            "9       1\n",
            "10      1\n",
            "Name: count, dtype: int64\n"
          ]
        }
      ]
    },
    {
      "cell_type": "code",
      "source": [
        "# Iterate through each row in item_df\n",
        "\n",
        "item_df = item_df[item_df['DESCRIPT'] != 'CROSS BIKE']\n",
        "\n",
        "\n",
        "for index, row in item_df.iterrows():\n",
        "    descript = row['DESCRIPT']\n",
        "    category_number = index  # Use row index as category number\n",
        "\n",
        "    # Create column name\n",
        "    column_name = f\"{descript}: {category_number}\"\n",
        "\n",
        "    # Add new column to combined_df, initialized with 0\n",
        "    combined_df[column_name] = 0\n",
        "\n",
        "# Display the updated combined_df\n",
        "print(combined_df.columns)"
      ],
      "metadata": {
        "colab": {
          "base_uri": "https://localhost:8080/"
        },
        "id": "-tmrAwP16gTQ",
        "outputId": "da296ff2-4358-4310-caf8-e13390724ad5"
      },
      "execution_count": null,
      "outputs": [
        {
          "output_type": "stream",
          "name": "stdout",
          "text": [
            "Index(['CENSUS_TRACT', 'Total:', '    Bicycle', '% Bike Commuter',\n",
            "       'Num_Crashes', 'COUNT', 'BIKE SIGNAL: 0', 'TWO-STAGE LEFT: 1',\n",
            "       'INTERSECTION SHARROW: 2', 'BIKE BOX: 3', 'MIXING ZONE: 4',\n",
            "       'PAINTED SAFETY ZONE: 5', 'CROSSBIKE: 6', 'PROTECTED CORNER: 7',\n",
            "       'PROTECTED INTERSECTION: 9', 'BIKE CHANNEL: 10', 'JUGHANDLE: 11'],\n",
            "      dtype='object')\n"
          ]
        }
      ]
    },
    {
      "cell_type": "code",
      "source": [
        "for index, row in Bikeways_cleaned.iterrows():\n",
        "    census_tract = row['CENSUS_TRACT']\n",
        "    descript_category = row['DESCRIPT']\n",
        "    count = row['COUNT']\n",
        "\n",
        "    # Find matching row in combined_df\n",
        "    matching_rows = combined_df[combined_df['CENSUS_TRACT'] == census_tract]\n",
        "\n",
        "    # If a match is found, update the corresponding Descript column\n",
        "    if not matching_rows.empty:\n",
        "        # Construct column name using existing column format\n",
        "        column_name = f\"{item_df.loc[descript_category, 'DESCRIPT']}: {descript_category}\"\n",
        "\n",
        "        # Check if column exists in combined_df\n",
        "        if column_name in combined_df.columns:\n",
        "            combined_df.loc[matching_rows.index, column_name] += count\n",
        "\n",
        "# Display the updated combined_df (optional)\n",
        "print(combined_df)"
      ],
      "metadata": {
        "colab": {
          "base_uri": "https://localhost:8080/"
        },
        "id": "QvV7i2jXJd7E",
        "outputId": "11b0c068-62d3-4189-8cd8-edac58f40b38",
        "collapsed": true
      },
      "execution_count": null,
      "outputs": [
        {
          "output_type": "stream",
          "name": "stdout",
          "text": [
            "    CENSUS_TRACT  Total:      Bicycle  % Bike Commuter  Num_Crashes  COUNT  \\\n",
            "2    06075010101  1159.0         44.0         3.796376            9      0   \n",
            "3    06075017903  1397.0         21.0         1.503221            0      0   \n",
            "6    06075016802  2726.0         40.0         1.467351            6      0   \n",
            "8    06075020202  2778.0        365.0        13.138949            7      0   \n",
            "9    06075016101   970.0          5.0         0.515464            1      0   \n",
            "..           ...     ...          ...              ...          ...    ...   \n",
            "293  06075980401     0.0          0.0         0.000000            0      0   \n",
            "294  06075009806   741.0         13.0         1.754386            0      0   \n",
            "295  06075009809   178.0         12.0         6.741573            0      0   \n",
            "296  06075009901     0.0          0.0         0.000000            0      0   \n",
            "297  06075009902     0.0          0.0         0.000000            0      0   \n",
            "\n",
            "     BIKE SIGNAL: 0  TWO-STAGE LEFT: 1  INTERSECTION SHARROW: 2  BIKE BOX: 3  \\\n",
            "2                 2                  1                        5            0   \n",
            "3                 0                  0                        2            1   \n",
            "6                 0                  1                        7            3   \n",
            "8                 0                  4                       19            5   \n",
            "9                 0                  0                        0            1   \n",
            "..              ...                ...                      ...          ...   \n",
            "293               0                  0                        0            0   \n",
            "294               0                  0                        0            0   \n",
            "295               0                  0                        0            0   \n",
            "296               0                  0                        0            0   \n",
            "297               0                  0                        0            0   \n",
            "\n",
            "     MIXING ZONE: 4  PAINTED SAFETY ZONE: 5  CROSSBIKE: 6  \\\n",
            "2               0.0                       0             0   \n",
            "3               0.0                       0             2   \n",
            "6               0.0                       0             0   \n",
            "8               2.0                       0             1   \n",
            "9               0.0                       0             0   \n",
            "..              ...                     ...           ...   \n",
            "293             0.0                       0             0   \n",
            "294             0.0                       0             0   \n",
            "295             0.0                       0             0   \n",
            "296             0.0                       0             0   \n",
            "297             0.0                       0             0   \n",
            "\n",
            "     PROTECTED CORNER: 7  PROTECTED INTERSECTION: 9  BIKE CHANNEL: 10  \\\n",
            "2                      0                          0                 0   \n",
            "3                      0                          0                 0   \n",
            "6                      0                          0                 0   \n",
            "8                      0                          0                 0   \n",
            "9                      0                          0                 0   \n",
            "..                   ...                        ...               ...   \n",
            "293                    0                          0                 0   \n",
            "294                    0                          0                 0   \n",
            "295                    0                          0                 0   \n",
            "296                    0                          0                 0   \n",
            "297                    0                          0                 0   \n",
            "\n",
            "     JUGHANDLE: 11  \n",
            "2                0  \n",
            "3                0  \n",
            "6                0  \n",
            "8                0  \n",
            "9                0  \n",
            "..             ...  \n",
            "293              0  \n",
            "294              0  \n",
            "295              0  \n",
            "296              0  \n",
            "297              0  \n",
            "\n",
            "[244 rows x 17 columns]\n"
          ]
        }
      ]
    },
    {
      "cell_type": "code",
      "source": [
        "# Select the columns to sum\n",
        "columns_to_sum = ['BIKE SIGNAL: 0', 'TWO-STAGE LEFT: 1',\n",
        "       'INTERSECTION SHARROW: 2', 'BIKE BOX: 3', 'MIXING ZONE: 4',\n",
        "       'PAINTED SAFETY ZONE: 5', 'CROSSBIKE: 6', 'PROTECTED CORNER: 7',\n",
        "        'PROTECTED INTERSECTION: 9', 'BIKE CHANNEL: 10',\n",
        "       'JUGHANDLE: 11']\n",
        "\n",
        "# Calculate the sum for each row and store it in 'COUNT'\n",
        "combined_df['COUNT'] = combined_df[columns_to_sum].sum(axis=1)\n",
        "\n",
        "# Display the updated DataFrame (optional)\n",
        "print(combined_df)"
      ],
      "metadata": {
        "colab": {
          "base_uri": "https://localhost:8080/"
        },
        "id": "4sffT2x6MBAY",
        "outputId": "008db287-fce0-4f21-96a1-a5d00c00a344",
        "collapsed": true
      },
      "execution_count": null,
      "outputs": [
        {
          "output_type": "stream",
          "name": "stdout",
          "text": [
            "    CENSUS_TRACT  Total:      Bicycle  % Bike Commuter  Num_Crashes  COUNT  \\\n",
            "2    06075010101  1159.0         44.0         3.796376            9    8.0   \n",
            "3    06075017903  1397.0         21.0         1.503221            0    5.0   \n",
            "6    06075016802  2726.0         40.0         1.467351            6   11.0   \n",
            "8    06075020202  2778.0        365.0        13.138949            7   31.0   \n",
            "9    06075016101   970.0          5.0         0.515464            1    1.0   \n",
            "..           ...     ...          ...              ...          ...    ...   \n",
            "293  06075980401     0.0          0.0         0.000000            0    0.0   \n",
            "294  06075009806   741.0         13.0         1.754386            0    0.0   \n",
            "295  06075009809   178.0         12.0         6.741573            0    0.0   \n",
            "296  06075009901     0.0          0.0         0.000000            0    0.0   \n",
            "297  06075009902     0.0          0.0         0.000000            0    0.0   \n",
            "\n",
            "     BIKE SIGNAL: 0  TWO-STAGE LEFT: 1  INTERSECTION SHARROW: 2  BIKE BOX: 3  \\\n",
            "2                 2                  1                        5            0   \n",
            "3                 0                  0                        2            1   \n",
            "6                 0                  1                        7            3   \n",
            "8                 0                  4                       19            5   \n",
            "9                 0                  0                        0            1   \n",
            "..              ...                ...                      ...          ...   \n",
            "293               0                  0                        0            0   \n",
            "294               0                  0                        0            0   \n",
            "295               0                  0                        0            0   \n",
            "296               0                  0                        0            0   \n",
            "297               0                  0                        0            0   \n",
            "\n",
            "     MIXING ZONE: 4  PAINTED SAFETY ZONE: 5  CROSSBIKE: 6  \\\n",
            "2               0.0                       0             0   \n",
            "3               0.0                       0             2   \n",
            "6               0.0                       0             0   \n",
            "8               2.0                       0             1   \n",
            "9               0.0                       0             0   \n",
            "..              ...                     ...           ...   \n",
            "293             0.0                       0             0   \n",
            "294             0.0                       0             0   \n",
            "295             0.0                       0             0   \n",
            "296             0.0                       0             0   \n",
            "297             0.0                       0             0   \n",
            "\n",
            "     PROTECTED CORNER: 7  PROTECTED INTERSECTION: 9  BIKE CHANNEL: 10  \\\n",
            "2                      0                          0                 0   \n",
            "3                      0                          0                 0   \n",
            "6                      0                          0                 0   \n",
            "8                      0                          0                 0   \n",
            "9                      0                          0                 0   \n",
            "..                   ...                        ...               ...   \n",
            "293                    0                          0                 0   \n",
            "294                    0                          0                 0   \n",
            "295                    0                          0                 0   \n",
            "296                    0                          0                 0   \n",
            "297                    0                          0                 0   \n",
            "\n",
            "     JUGHANDLE: 11  \n",
            "2                0  \n",
            "3                0  \n",
            "6                0  \n",
            "8                0  \n",
            "9                0  \n",
            "..             ...  \n",
            "293              0  \n",
            "294              0  \n",
            "295              0  \n",
            "296              0  \n",
            "297              0  \n",
            "\n",
            "[244 rows x 17 columns]\n"
          ]
        }
      ]
    },
    {
      "cell_type": "code",
      "source": [
        "combined_df['Relative_Crashes'] = np.where(combined_df['% Bike Commuter'] != 0,\n",
        "                                               combined_df['Num_Crashes'] / combined_df['% Bike Commuter'],\n",
        "                                               0)  # Assign 0 if '% Bike Commuter' is 0"
      ],
      "metadata": {
        "id": "p8mWtbSl6QJp"
      },
      "execution_count": null,
      "outputs": []
    },
    {
      "cell_type": "code",
      "source": [
        "print(combined_df.columns)"
      ],
      "metadata": {
        "colab": {
          "base_uri": "https://localhost:8080/"
        },
        "id": "pSwhbCwJ6pdj",
        "outputId": "1dffb93d-75ff-4844-82d6-dab61f798e28"
      },
      "execution_count": null,
      "outputs": [
        {
          "output_type": "stream",
          "name": "stdout",
          "text": [
            "Index(['CENSUS_TRACT', 'Total:', '    Bicycle', '% Bike Commuter',\n",
            "       'Num_Crashes', 'COUNT', 'BIKE SIGNAL: 0', 'TWO-STAGE LEFT: 1',\n",
            "       'INTERSECTION SHARROW: 2', 'BIKE BOX: 3', 'MIXING ZONE: 4',\n",
            "       'PAINTED SAFETY ZONE: 5', 'CROSSBIKE: 6', 'PROTECTED CORNER: 7',\n",
            "       'PROTECTED INTERSECTION: 9', 'BIKE CHANNEL: 10', 'JUGHANDLE: 11',\n",
            "       'Relative_Crashes'],\n",
            "      dtype='object')\n"
          ]
        }
      ]
    },
    {
      "cell_type": "code",
      "source": [
        "# 1. Ensure both columns are strings\n",
        "combined_df['CENSUS_TRACT'] = combined_df['CENSUS_TRACT'].astype(str)\n",
        "Income_cleaned['Census Tract'] = Income_cleaned['Census Tract'].astype(str)\n",
        "\n",
        "# 2. Remove leading/trailing spaces\n",
        "combined_df['CENSUS_TRACT'] = combined_df['CENSUS_TRACT'].str.strip()\n",
        "Income_cleaned['Census Tract'] = Income_cleaned['Census Tract'].str.strip()\n",
        "\n",
        "# 3. Pad 'Census Tract' in Income_cleaned with leading zeros to 11 characters\n",
        "Income_cleaned['Census Tract'] = Income_cleaned['Census Tract'].str.zfill(11)\n"
      ],
      "metadata": {
        "id": "5AGnm5i-T4hr"
      },
      "execution_count": null,
      "outputs": []
    },
    {
      "cell_type": "code",
      "source": [
        "# Merge the DataFrames based on 'CENSUS_TRACT' and 'Census Tract' columns\n",
        "combined_df = pd.merge(combined_df, Income_cleaned[['Census Tract', 'Median Income']], left_on='CENSUS_TRACT', right_on='Census Tract', how='left')\n",
        "\n",
        "# Drop the redundant 'Census Tract' column\n",
        "combined_df.drop('Census Tract', axis=1, inplace=True)\n",
        "\n",
        "# Display the merged DataFrame (optional)\n",
        "print(combined_df.head())"
      ],
      "metadata": {
        "colab": {
          "base_uri": "https://localhost:8080/"
        },
        "id": "-Qq3FNzAVi1g",
        "outputId": "05064fbd-e6fe-4429-d11d-24b90bb3a413",
        "collapsed": true
      },
      "execution_count": null,
      "outputs": [
        {
          "output_type": "stream",
          "name": "stdout",
          "text": [
            "  CENSUS_TRACT  Total:      Bicycle  % Bike Commuter  Num_Crashes  COUNT  \\\n",
            "0  06075010101  1159.0         44.0         3.796376            9    8.0   \n",
            "1  06075017903  1397.0         21.0         1.503221            0    5.0   \n",
            "2  06075016802  2726.0         40.0         1.467351            6   11.0   \n",
            "3  06075020202  2778.0        365.0        13.138949            7   31.0   \n",
            "4  06075016101   970.0          5.0         0.515464            1    1.0   \n",
            "\n",
            "   BIKE SIGNAL: 0  TWO-STAGE LEFT: 1  INTERSECTION SHARROW: 2  BIKE BOX: 3  \\\n",
            "0               2                  1                        5            0   \n",
            "1               0                  0                        2            1   \n",
            "2               0                  1                        7            3   \n",
            "3               0                  4                       19            5   \n",
            "4               0                  0                        0            1   \n",
            "\n",
            "   MIXING ZONE: 4  PAINTED SAFETY ZONE: 5  CROSSBIKE: 6  PROTECTED CORNER: 7  \\\n",
            "0             0.0                       0             0                    0   \n",
            "1             0.0                       0             2                    0   \n",
            "2             0.0                       0             0                    0   \n",
            "3             2.0                       0             1                    0   \n",
            "4             0.0                       0             0                    0   \n",
            "\n",
            "   PROTECTED INTERSECTION: 9  BIKE CHANNEL: 10  JUGHANDLE: 11  \\\n",
            "0                          0                 0              0   \n",
            "1                          0                 0              0   \n",
            "2                          0                 0              0   \n",
            "3                          0                 0              0   \n",
            "4                          0                 0              0   \n",
            "\n",
            "   Relative_Crashes Median Income  \n",
            "0          2.370682         73156  \n",
            "1          0.000000         30769  \n",
            "2          4.089000         60841  \n",
            "3          0.532767         83633  \n",
            "4          1.940000         22654  \n"
          ]
        }
      ]
    },
    {
      "cell_type": "code",
      "source": [
        "from sklearn.preprocessing import MinMaxScaler, StandardScaler\n",
        "\n",
        "# Replace '-' with NaN in the DataFrame before scaling\n",
        "combined_df = combined_df.replace('-', np.nan)\n",
        "\n",
        "# Get all column names except 'CENSUS_TRACT'\n",
        "cols_to_normalize = [col for col in combined_df.columns if col != 'CENSUS_TRACT']\n",
        "\n",
        "# Convert all columns except 'CENSUS_TRACT' to numeric, coercing errors to NaN\n",
        "for col in cols_to_normalize:\n",
        "    combined_df[col] = pd.to_numeric(combined_df[col], errors='coerce')\n",
        "\n",
        "# Create a MinMaxScaler object\n",
        "scaler = MinMaxScaler()\n",
        "\n",
        "# Fit the scaler to the selected columns\n",
        "scaler.fit(combined_df[cols_to_normalize])\n",
        "\n",
        "# Transform the selected columns and update the DataFrame\n",
        "combined_df[cols_to_normalize] = scaler.transform(combined_df[cols_to_normalize])\n",
        "\n",
        "# Display the normalized DataFrame (optional)\n",
        "print(combined_df.head())"
      ],
      "metadata": {
        "colab": {
          "base_uri": "https://localhost:8080/"
        },
        "id": "rESyAECHWBaQ",
        "outputId": "eafcf362-a011-448c-af53-e35b89ab1b40",
        "collapsed": true
      },
      "execution_count": null,
      "outputs": [
        {
          "output_type": "stream",
          "name": "stdout",
          "text": [
            "  CENSUS_TRACT    Total:      Bicycle  % Bike Commuter  Num_Crashes     COUNT  \\\n",
            "0  06075010101  0.210996     0.086614         0.224949     0.818182  0.205128   \n",
            "1  06075017903  0.254324     0.041339         0.089071     0.000000  0.128205   \n",
            "2  06075016802  0.496268     0.078740         0.086946     0.545455  0.282051   \n",
            "3  06075020202  0.505735     0.718504         0.778532     0.636364  0.794872   \n",
            "4  06075016101  0.176588     0.009843         0.030543     0.090909  0.025641   \n",
            "\n",
            "   BIKE SIGNAL: 0  TWO-STAGE LEFT: 1  INTERSECTION SHARROW: 2  BIKE BOX: 3  \\\n",
            "0        0.166667                0.2                 0.263158          0.0   \n",
            "1        0.000000                0.0                 0.105263          0.2   \n",
            "2        0.000000                0.2                 0.368421          0.6   \n",
            "3        0.000000                0.8                 1.000000          1.0   \n",
            "4        0.000000                0.0                 0.000000          0.2   \n",
            "\n",
            "   MIXING ZONE: 4  PAINTED SAFETY ZONE: 5  CROSSBIKE: 6  PROTECTED CORNER: 7  \\\n",
            "0        0.000000                     0.0           0.0                  0.0   \n",
            "1        0.000000                     0.0           0.2                  0.0   \n",
            "2        0.000000                     0.0           0.0                  0.0   \n",
            "3        0.666667                     0.0           0.1                  0.0   \n",
            "4        0.000000                     0.0           0.0                  0.0   \n",
            "\n",
            "   PROTECTED INTERSECTION: 9  BIKE CHANNEL: 10  JUGHANDLE: 11  \\\n",
            "0                        0.0               0.0            0.0   \n",
            "1                        0.0               0.0            0.0   \n",
            "2                        0.0               0.0            0.0   \n",
            "3                        0.0               0.0            0.0   \n",
            "4                        0.0               0.0            0.0   \n",
            "\n",
            "   Relative_Crashes  Median Income  \n",
            "0          0.196330       0.329095  \n",
            "1          0.000000       0.117337  \n",
            "2          0.338634       0.267572  \n",
            "3          0.044122       0.381437  \n",
            "4          0.160663       0.076796  \n"
          ]
        }
      ]
    },
    {
      "cell_type": "code",
      "source": [
        "# Find rows with any NaN values\n",
        "nan_rows = combined_df[combined_df.isna().any(axis=1)]\n",
        "\n",
        "# Display the rows with NaN values\n",
        "print(nan_rows)"
      ],
      "metadata": {
        "id": "JPIUOT5QDzXQ",
        "outputId": "76cbe689-4b92-4c04-9458-a8a8f8ae3fb5",
        "colab": {
          "base_uri": "https://localhost:8080/"
        },
        "collapsed": true
      },
      "execution_count": null,
      "outputs": [
        {
          "output_type": "stream",
          "name": "stdout",
          "text": [
            "    CENSUS_TRACT    Total:      Bicycle  % Bike Commuter  Num_Crashes  \\\n",
            "5    06075017804  0.510650     0.108268         0.116184     0.454545   \n",
            "104  06075000103  0.449117     0.120079         0.146513     0.000000   \n",
            "106  06075000105  0.297834     0.104331         0.191959     0.000000   \n",
            "107  06075000106  0.360277     0.031496         0.047906     0.000000   \n",
            "109  06075000108  0.549791     0.114173         0.113799     0.000000   \n",
            "..           ...       ...          ...              ...          ...   \n",
            "239  06075980401  0.000000     0.000000         0.000000     0.000000   \n",
            "240  06075009806  0.134899     0.025591         0.103954     0.000000   \n",
            "241  06075009809  0.032405     0.023622         0.399463     0.000000   \n",
            "242  06075009901  0.000000     0.000000         0.000000     0.000000   \n",
            "243  06075009902  0.000000     0.000000         0.000000     0.000000   \n",
            "\n",
            "        COUNT  BIKE SIGNAL: 0  TWO-STAGE LEFT: 1  INTERSECTION SHARROW: 2  \\\n",
            "5    0.692308        0.333333                1.0                 0.947368   \n",
            "104  0.000000        0.000000                0.0                 0.000000   \n",
            "106  0.000000        0.000000                0.0                 0.000000   \n",
            "107  0.000000        0.000000                0.0                 0.000000   \n",
            "109  0.000000        0.000000                0.0                 0.000000   \n",
            "..        ...             ...                ...                      ...   \n",
            "239  0.000000        0.000000                0.0                 0.000000   \n",
            "240  0.000000        0.000000                0.0                 0.000000   \n",
            "241  0.000000        0.000000                0.0                 0.000000   \n",
            "242  0.000000        0.000000                0.0                 0.000000   \n",
            "243  0.000000        0.000000                0.0                 0.000000   \n",
            "\n",
            "     BIKE BOX: 3  MIXING ZONE: 4  PAINTED SAFETY ZONE: 5  CROSSBIKE: 6  \\\n",
            "5            0.0             NaN                     0.0           0.0   \n",
            "104          0.0             0.0                     0.0           0.0   \n",
            "106          0.0             0.0                     0.0           0.0   \n",
            "107          0.0             0.0                     0.0           0.0   \n",
            "109          0.0             0.0                     0.0           0.0   \n",
            "..           ...             ...                     ...           ...   \n",
            "239          0.0             0.0                     0.0           0.0   \n",
            "240          0.0             0.0                     0.0           0.0   \n",
            "241          0.0             0.0                     0.0           0.0   \n",
            "242          0.0             0.0                     0.0           0.0   \n",
            "243          0.0             0.0                     0.0           0.0   \n",
            "\n",
            "     PROTECTED CORNER: 7  PROTECTED INTERSECTION: 9  BIKE CHANNEL: 10  \\\n",
            "5                    0.0                        0.0               0.0   \n",
            "104                  0.0                        0.0               0.0   \n",
            "106                  0.0                        0.0               0.0   \n",
            "107                  0.0                        0.0               0.0   \n",
            "109                  0.0                        0.0               0.0   \n",
            "..                   ...                        ...               ...   \n",
            "239                  0.0                        0.0               0.0   \n",
            "240                  0.0                        0.0               0.0   \n",
            "241                  0.0                        0.0               0.0   \n",
            "242                  0.0                        0.0               0.0   \n",
            "243                  0.0                        0.0               0.0   \n",
            "\n",
            "     JUGHANDLE: 11  Relative_Crashes  Median Income  \n",
            "5              0.0           0.21118       0.391303  \n",
            "104            0.0           0.00000            NaN  \n",
            "106            0.0           0.00000            NaN  \n",
            "107            0.0           0.00000            NaN  \n",
            "109            0.0           0.00000            NaN  \n",
            "..             ...               ...            ...  \n",
            "239            0.0           0.00000            NaN  \n",
            "240            0.0           0.00000            NaN  \n",
            "241            0.0           0.00000            NaN  \n",
            "242            0.0           0.00000            NaN  \n",
            "243            0.0           0.00000            NaN  \n",
            "\n",
            "[81 rows x 19 columns]\n"
          ]
        }
      ]
    },
    {
      "cell_type": "code",
      "source": [
        "combined_df.to_csv('combined_df.csv', index=False)\n",
        "files.download('combined_df.csv')"
      ],
      "metadata": {
        "id": "r3XfaReT657A",
        "colab": {
          "base_uri": "https://localhost:8080/",
          "height": 17
        },
        "outputId": "dc49b217-0bc9-48b4-85fd-be1a29504b67"
      },
      "execution_count": null,
      "outputs": [
        {
          "output_type": "display_data",
          "data": {
            "text/plain": [
              "<IPython.core.display.Javascript object>"
            ],
            "application/javascript": [
              "\n",
              "    async function download(id, filename, size) {\n",
              "      if (!google.colab.kernel.accessAllowed) {\n",
              "        return;\n",
              "      }\n",
              "      const div = document.createElement('div');\n",
              "      const label = document.createElement('label');\n",
              "      label.textContent = `Downloading \"${filename}\": `;\n",
              "      div.appendChild(label);\n",
              "      const progress = document.createElement('progress');\n",
              "      progress.max = size;\n",
              "      div.appendChild(progress);\n",
              "      document.body.appendChild(div);\n",
              "\n",
              "      const buffers = [];\n",
              "      let downloaded = 0;\n",
              "\n",
              "      const channel = await google.colab.kernel.comms.open(id);\n",
              "      // Send a message to notify the kernel that we're ready.\n",
              "      channel.send({})\n",
              "\n",
              "      for await (const message of channel.messages) {\n",
              "        // Send a message to notify the kernel that we're ready.\n",
              "        channel.send({})\n",
              "        if (message.buffers) {\n",
              "          for (const buffer of message.buffers) {\n",
              "            buffers.push(buffer);\n",
              "            downloaded += buffer.byteLength;\n",
              "            progress.value = downloaded;\n",
              "          }\n",
              "        }\n",
              "      }\n",
              "      const blob = new Blob(buffers, {type: 'application/binary'});\n",
              "      const a = document.createElement('a');\n",
              "      a.href = window.URL.createObjectURL(blob);\n",
              "      a.download = filename;\n",
              "      div.appendChild(a);\n",
              "      a.click();\n",
              "      div.remove();\n",
              "    }\n",
              "  "
            ]
          },
          "metadata": {}
        },
        {
          "output_type": "display_data",
          "data": {
            "text/plain": [
              "<IPython.core.display.Javascript object>"
            ],
            "application/javascript": [
              "download(\"download_c590622f-1212-4a96-8d30-fd308d192f16\", \"combined_df.csv\", 37927)"
            ]
          },
          "metadata": {}
        }
      ]
    }
  ]
}